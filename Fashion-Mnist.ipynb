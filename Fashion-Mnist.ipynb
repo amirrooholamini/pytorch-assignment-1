{
  "nbformat": 4,
  "nbformat_minor": 0,
  "metadata": {
    "colab": {
      "name": "Pytorch-1.ipynb",
      "provenance": [],
      "collapsed_sections": []
    },
    "kernelspec": {
      "name": "python3",
      "display_name": "Python 3"
    },
    "language_info": {
      "name": "python"
    },
    "accelerator": "GPU"
  },
  "cells": [
    {
      "cell_type": "code",
      "execution_count": null,
      "metadata": {
        "id": "yUjpKx-7UXIN"
      },
      "outputs": [],
      "source": [
        "import torch\n",
        "import torchvision"
      ]
    },
    {
      "cell_type": "code",
      "source": [
        "batch_size = 64\n",
        "epochs = 10\n",
        "lr = 0.001"
      ],
      "metadata": {
        "id": "gaIVv9N6X-bv"
      },
      "execution_count": null,
      "outputs": []
    },
    {
      "cell_type": "code",
      "source": [
        "class Model(torch.nn.Module):\n",
        "  def __init__(self):\n",
        "    super().__init__()\n",
        "\n",
        "    self.fc1 = torch.nn.Linear(784, 128)\n",
        "    self.fc2 = torch.nn.Linear(128, 10)\n",
        "\n",
        "  def forward(self , x):\n",
        "    x = x.reshape((x.shape[0], 784))\n",
        "    x = self.fc1(x)\n",
        "    x = torch.relu(x)\n",
        "    x = torch.dropout(x, 0.2 , train=True)\n",
        "    x = self.fc2(x)\n",
        "    x = torch.softmax(x, dim=1)\n",
        "    return x\n",
        "    "
      ],
      "metadata": {
        "id": "plKfaYOuUtzP"
      },
      "execution_count": null,
      "outputs": []
    },
    {
      "cell_type": "code",
      "source": [
        "cudaDevice = torch.device(\"cuda\")\n",
        "model = Model()\n",
        "model.to(cudaDevice)\n",
        "model.train(True)"
      ],
      "metadata": {
        "colab": {
          "base_uri": "https://localhost:8080/"
        },
        "id": "wKbHSgjvXeYH",
        "outputId": "f98aeee1-d34a-4321-8e05-d7e0e407b61f"
      },
      "execution_count": null,
      "outputs": [
        {
          "output_type": "execute_result",
          "data": {
            "text/plain": [
              "Model(\n",
              "  (fc1): Linear(in_features=784, out_features=128, bias=True)\n",
              "  (fc2): Linear(in_features=128, out_features=10, bias=True)\n",
              ")"
            ]
          },
          "metadata": {},
          "execution_count": 45
        }
      ]
    },
    {
      "cell_type": "code",
      "source": [
        "transforms = torchvision.transforms.Compose([\n",
        "       torchvision.transforms.ToTensor(),\n",
        "       torchvision.transforms.Normalize((0),(1))                      \n",
        "])\n",
        "\n",
        "dataset = torchvision.datasets.MNIST(\"./dataset\",download=True, transform=transforms, train=True)\n",
        "trainData = torch.utils.data.DataLoader(dataset, batch_size=batch_size, shuffle=True)\n"
      ],
      "metadata": {
        "id": "6GCXDuKwYSXn"
      },
      "execution_count": null,
      "outputs": []
    },
    {
      "cell_type": "code",
      "source": [
        "optimizer = torch.optim.Adam(model.parameters(), lr=lr)\n",
        "lossFunction = torch.nn.CrossEntropyLoss()"
      ],
      "metadata": {
        "id": "43Iea47jcpV9"
      },
      "execution_count": null,
      "outputs": []
    },
    {
      "cell_type": "code",
      "source": [
        "def accuracyCacculator(preds, lables):\n",
        "  _, preds_max = torch.max(preds,1)\n",
        "  acc = torch.sum(preds_max == lables , dtype=torch.float64)/len(preds)\n",
        "  return acc"
      ],
      "metadata": {
        "id": "RTJQi8NKj7fI"
      },
      "execution_count": null,
      "outputs": []
    },
    {
      "cell_type": "code",
      "source": [
        "for epoch in range(epochs):\n",
        "  trainLoss = 0\n",
        "  trainAccuracy = 0\n",
        "  for images, labels in trainData:\n",
        "    images = images.to(cudaDevice)\n",
        "    labels = labels.to(cudaDevice)\n",
        "    optimizer.zero_grad()\n",
        "\n",
        "    predictions = model(images)\n",
        "    loss = lossFunction(predictions,labels)\n",
        "    loss.backward()\n",
        "    optimizer.step()\n",
        "\n",
        "    trainLoss += loss\n",
        "    trainAccuracy += accuracyCacculator(predictions, labels)\n",
        "\n",
        "  totalLoss = trainLoss/len(trainData)\n",
        "  totalAccuracy = trainAccuracy/len(trainData)\n",
        "  print(f\"Epoch: {epoch +1}, Loss: {totalLoss}, Accuracy: {totalAccuracy}\")"
      ],
      "metadata": {
        "colab": {
          "base_uri": "https://localhost:8080/"
        },
        "id": "QARjxPH8dOKO",
        "outputId": "b87f75f3-15ee-46e9-fc9a-a763b1db3ad1"
      },
      "execution_count": null,
      "outputs": [
        {
          "output_type": "stream",
          "name": "stdout",
          "text": [
            "Epoch: 1, Loss: 1.607242465019226, Accuracy: 0.8811467217484008\n",
            "Epoch: 2, Loss: 1.5359927415847778, Accuracy: 0.9336853678038379\n",
            "Epoch: 3, Loss: 1.5203144550323486, Accuracy: 0.9465951492537313\n",
            "Epoch: 4, Loss: 1.510363221168518, Accuracy: 0.9559401652452025\n",
            "Epoch: 5, Loss: 1.5041923522949219, Accuracy: 0.960920842217484\n",
            "Epoch: 6, Loss: 1.499473214149475, Accuracy: 0.9652185501066098\n",
            "Epoch: 7, Loss: 1.4957292079925537, Accuracy: 0.96875\n",
            "Epoch: 8, Loss: 1.4930495023727417, Accuracy: 0.9710820895522387\n",
            "Epoch: 9, Loss: 1.491082787513733, Accuracy: 0.972581289978678\n",
            "Epoch: 10, Loss: 1.489253282546997, Accuracy: 0.9742470682302772\n"
          ]
        }
      ]
    },
    {
      "cell_type": "code",
      "source": [
        "# Inference\n",
        "\n"
      ],
      "metadata": {
        "id": "-tgc0W1zj0JQ"
      },
      "execution_count": null,
      "outputs": []
    }
  ]
}